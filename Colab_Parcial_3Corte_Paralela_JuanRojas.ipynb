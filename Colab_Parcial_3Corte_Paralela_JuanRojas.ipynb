{
  "nbformat": 4,
  "nbformat_minor": 0,
  "metadata": {
    "colab": {
      "provenance": [],
      "collapsed_sections": [
        "jgiWr3zrs7It",
        "hzfyX4NqcKYk",
        "Kc37dbG2tA0l",
        "1rB8q2zFq44L"
      ]
    },
    "kernelspec": {
      "name": "python3",
      "display_name": "Python 3"
    },
    "language_info": {
      "name": "python"
    }
  },
  "cells": [
    {
      "cell_type": "markdown",
      "source": [
        "<p align = center  \n",
        "<br>\n",
        "<img src=\"https://res-5.cloudinary.com/crunchbase-production/image/upload/c_lpad,h_256,w_256,f_auto,q_auto:eco/v1455514364/pim02bzqvgz0hibsra41.png\" align=\"center\"><br><FONT FACE=\"times new roman\" SIZE=5>\n",
        "<b>Tercer Parcial: Computación Paralela y Distribuida </b>\n",
        "<br>\n",
        "<i><b>Autor:</b></i> Juan Sebastián Rojas Acevedo - 8º semestre\n",
        "<br>\n",
        "<i><b>Fecha: </b>20/11/2022\n",
        "<br>\n",
        "<b>Ciencias de la computación e Inteligencia Artificial - Universidad Sergio Arboleda</b></i>\n",
        "<br>\n",
        "</FONT>\n",
        "</p>"
      ],
      "metadata": {
        "id": "ZawjX5AGRsFA"
      }
    },
    {
      "cell_type": "markdown",
      "source": [
        "#Contexto  \n",
        "#Python y Cython ¿Qué son?\n",
        "\n",
        "* Python es un lenguaje de programación muy utilizado hoy en día, entre otras razones por que es cómodo para programar a alto nivel, además cuenta con muchas librerías y es un código fácilmente mantenible. A pesar de todas estas ventajas, cabe destacar que es notoriamente lento, por lo que es conveniente conocer algunas herramientas que permitan acelerar el código Python.\n",
        "\n",
        "  Para esto se crea Cython, este es un lenguaje que se escribe de forma muy similar a Python, pero permite la utilización de librerías y variables de tipo C. Por tanto, se puede conseguir la velocidad de C manteniendo la simplicidad de sintaxis proporcionada por Python. Además, una de sus grandes versatilidades es que se pueden mezclar definiciones explícitas de variables C con variables de Python, como pueden ser los diccionarios.\n",
        "\n",
        "* Sin embargo, programar en Cython también comporta una serie de inconvenientes, como la necesidad de compilar el código por separado antes de ejecutar el programa. También está el hecho de que comparado con lenguajes como C o Fortran, no tiene un soporte tan bueno para la paralelización de memoria."
      ],
      "metadata": {
        "id": "0_Mw1hmMSqZX"
      }
    },
    {
      "cell_type": "markdown",
      "source": [
        "#Objetivo: Comparativa  de rendimiento Cython vs Python\n",
        "\n",
        "* Durante el desarrollo del ejercicio se seleccionan dos Algoritmos (Multiplicación de Matrices y el Palindrome de 3 Longitudes) con el fin de comparar los tiempos de rendimiento que se gastan a la hora de ser ejecutados con Python y con Cython y comprobar que Cython tiene un mejor rendimiento acomparación de Python.  \n",
        "\n",
        "* También hay que tener en cuenta el sistema operativo en el que se realizan las pruebas, para este paso es recomendable y sumamente eficiente emplear un Software ligero, como Ubuntu, debido a que este sistema operativo tiene un kernel de Linux basado en Debian, teniendo en cuenta su uso sencillo y el completo dominio que le brinda a su empleador; además de la cantidad de subprocesos innecesarios que tiene en segundo plano, es inferior en comparación con otros sistemas operativos, esto permite que las pruebas realizadas como la multiplicación para la toma de rendimiento tenga un mayor porcentaje de éxito y fiabilidad.\n",
        "\n",
        "* Durante el desarrollo de un programa es importante definir varios aspectos, como el lenguaje que se piensa utilizar (Python y Cython) al respecto para dicho fin. Principalmente un lenguaje de programación es un lenguaje formal (reglas gramaticales), esto le da la capacidad de escribir mediante código una serie de instrucciones o secuencias de orden para controlar el comportamiento lógico de un sistema informático. "
      ],
      "metadata": {
        "id": "LYv3rLfaUcH4"
      }
    },
    {
      "cell_type": "markdown",
      "source": [
        "#Metodología\n",
        "\n",
        "Para la elaboración del proyecto, se tuvo en cuenta el uso de diversas herramientas de forma que sea posible mostrar las pruebas de la manera más óptima, teniendo en cuenta desde el sistema operativo hasta el editor de texto más adecuado, para trabajar con un solo equipo con las siguientes Caracteristicas: \n",
        "\n",
        "\n",
        " - LENOVO con un procesador Intel(R) Core(TM) i5.8250 CPU @ 1.60GHZ  1.80 GHz, un disco HDD de  2.0 TB y una memoria RAM de 8,00 GB. Memoria Caché L1 de 256 KB, Memoria Caché L2 de 1 MB y Memoria Caché L3 de 6 MB\n",
        "\n",
        "Cabe recalcar que durante la toma de rendimiento por cada lenguaje los tiempos son bajos pero significativos para cada uno de los Lenguajes influye la arquitectura del equipo con el que se empleo explicado anteriormente.\n",
        "\n",
        "Se quiere analizar el tiempo de mejora que se puede obtener de Cython en comparación de Python, para esto se realizo una bateria de experimentos de **20** con el fin de evidenciar distintos datos y no quedarnos con solo un valor."
      ],
      "metadata": {
        "id": "dvQiafLtXW3h"
      }
    },
    {
      "cell_type": "markdown",
      "source": [
        "#Primer Algoritmo - MULTIPLICACIÓN DE MATRICES\n",
        "* En este caso, para evaluar el rendimiento se realizó un programa base de multiplicación de matrices con un tamaño fijo de 200 X 200, con valores aleatorios, mediante varios ciclos repetitivos ***for*** uno dentro de otro, para multiplicar las matrices según la estructura y los datos admitidos por cada una, teniendo en cuenta que los ciclos repetitivos for dentro de otro no son muy eficientes y toman más recursos de la máquina, siendo una prueba óptima para medir el rendimiento de las estas para cada uno de los casos, tanto para Python como para Cython."
      ],
      "metadata": {
        "id": "jgiWr3zrs7It"
      }
    },
    {
      "cell_type": "code",
      "execution_count": 51,
      "metadata": {
        "id": "OnwaqiD4nLAg"
      },
      "outputs": [],
      "source": [
        "import pandas as pd\n",
        "import numpy as np\n",
        "import matplotlib.pyplot as plt"
      ]
    },
    {
      "cell_type": "markdown",
      "source": [
        "##Analisis de los Resultados"
      ],
      "metadata": {
        "id": "qFjCA1kNb00Z"
      }
    },
    {
      "cell_type": "markdown",
      "source": [
        "###Primera Parte\n",
        "\n",
        "* Se leen los datos mediante un .csv para realizar su respectivo analisis"
      ],
      "metadata": {
        "id": "0N4tDCLEzwBj"
      }
    },
    {
      "cell_type": "code",
      "source": [
        "df = pd.read_csv(\"/content/Multiplicacion_Matrices.csv\")\n",
        "df"
      ],
      "metadata": {
        "colab": {
          "base_uri": "https://localhost:8080/",
          "height": 677
        },
        "id": "nX7R_yHenR6l",
        "outputId": "c925a739-f5cb-453c-bcbe-b81576d104ce"
      },
      "execution_count": 52,
      "outputs": [
        {
          "output_type": "execute_result",
          "data": {
            "text/plain": [
              "     Python   Cython    Mejora\n",
              "0   5.55485  1.48593  4.319714\n",
              "1   5.56088  1.27997  3.757428\n",
              "2   5.54799  1.28018  3.302021\n",
              "3   5.54819  1.27633  3.519688\n",
              "4   5.54686  1.28549  3.498515\n",
              "5   5.57842  1.27981  3.320864\n",
              "6   5.55173  1.27763  3.309270\n",
              "7   5.55405  1.24250  3.850295\n",
              "8   5.55286  1.28034  4.022820\n",
              "9   5.61856  1.26284  3.595096\n",
              "10  5.67796  1.28087  4.111872\n",
              "11  5.57030  1.27722  4.361269\n",
              "12  5.55704  1.28004  3.517025\n",
              "13  5.55369  1.22629  3.893801\n",
              "14  5.60823  1.21875  3.692662\n",
              "15  5.56702  1.20584  3.959924\n",
              "16  5.56896  1.27178  4.378871\n",
              "17  5.66799  1.22187  5.052270\n",
              "18  5.74020  1.23636  4.642822\n",
              "19  5.67707  1.27363  5.287734"
            ],
            "text/html": [
              "\n",
              "  <div id=\"df-633c46a4-39d7-4ab2-9091-5dfa493996f6\">\n",
              "    <div class=\"colab-df-container\">\n",
              "      <div>\n",
              "<style scoped>\n",
              "    .dataframe tbody tr th:only-of-type {\n",
              "        vertical-align: middle;\n",
              "    }\n",
              "\n",
              "    .dataframe tbody tr th {\n",
              "        vertical-align: top;\n",
              "    }\n",
              "\n",
              "    .dataframe thead th {\n",
              "        text-align: right;\n",
              "    }\n",
              "</style>\n",
              "<table border=\"1\" class=\"dataframe\">\n",
              "  <thead>\n",
              "    <tr style=\"text-align: right;\">\n",
              "      <th></th>\n",
              "      <th>Python</th>\n",
              "      <th>Cython</th>\n",
              "      <th>Mejora</th>\n",
              "    </tr>\n",
              "  </thead>\n",
              "  <tbody>\n",
              "    <tr>\n",
              "      <th>0</th>\n",
              "      <td>5.55485</td>\n",
              "      <td>1.48593</td>\n",
              "      <td>4.319714</td>\n",
              "    </tr>\n",
              "    <tr>\n",
              "      <th>1</th>\n",
              "      <td>5.56088</td>\n",
              "      <td>1.27997</td>\n",
              "      <td>3.757428</td>\n",
              "    </tr>\n",
              "    <tr>\n",
              "      <th>2</th>\n",
              "      <td>5.54799</td>\n",
              "      <td>1.28018</td>\n",
              "      <td>3.302021</td>\n",
              "    </tr>\n",
              "    <tr>\n",
              "      <th>3</th>\n",
              "      <td>5.54819</td>\n",
              "      <td>1.27633</td>\n",
              "      <td>3.519688</td>\n",
              "    </tr>\n",
              "    <tr>\n",
              "      <th>4</th>\n",
              "      <td>5.54686</td>\n",
              "      <td>1.28549</td>\n",
              "      <td>3.498515</td>\n",
              "    </tr>\n",
              "    <tr>\n",
              "      <th>5</th>\n",
              "      <td>5.57842</td>\n",
              "      <td>1.27981</td>\n",
              "      <td>3.320864</td>\n",
              "    </tr>\n",
              "    <tr>\n",
              "      <th>6</th>\n",
              "      <td>5.55173</td>\n",
              "      <td>1.27763</td>\n",
              "      <td>3.309270</td>\n",
              "    </tr>\n",
              "    <tr>\n",
              "      <th>7</th>\n",
              "      <td>5.55405</td>\n",
              "      <td>1.24250</td>\n",
              "      <td>3.850295</td>\n",
              "    </tr>\n",
              "    <tr>\n",
              "      <th>8</th>\n",
              "      <td>5.55286</td>\n",
              "      <td>1.28034</td>\n",
              "      <td>4.022820</td>\n",
              "    </tr>\n",
              "    <tr>\n",
              "      <th>9</th>\n",
              "      <td>5.61856</td>\n",
              "      <td>1.26284</td>\n",
              "      <td>3.595096</td>\n",
              "    </tr>\n",
              "    <tr>\n",
              "      <th>10</th>\n",
              "      <td>5.67796</td>\n",
              "      <td>1.28087</td>\n",
              "      <td>4.111872</td>\n",
              "    </tr>\n",
              "    <tr>\n",
              "      <th>11</th>\n",
              "      <td>5.57030</td>\n",
              "      <td>1.27722</td>\n",
              "      <td>4.361269</td>\n",
              "    </tr>\n",
              "    <tr>\n",
              "      <th>12</th>\n",
              "      <td>5.55704</td>\n",
              "      <td>1.28004</td>\n",
              "      <td>3.517025</td>\n",
              "    </tr>\n",
              "    <tr>\n",
              "      <th>13</th>\n",
              "      <td>5.55369</td>\n",
              "      <td>1.22629</td>\n",
              "      <td>3.893801</td>\n",
              "    </tr>\n",
              "    <tr>\n",
              "      <th>14</th>\n",
              "      <td>5.60823</td>\n",
              "      <td>1.21875</td>\n",
              "      <td>3.692662</td>\n",
              "    </tr>\n",
              "    <tr>\n",
              "      <th>15</th>\n",
              "      <td>5.56702</td>\n",
              "      <td>1.20584</td>\n",
              "      <td>3.959924</td>\n",
              "    </tr>\n",
              "    <tr>\n",
              "      <th>16</th>\n",
              "      <td>5.56896</td>\n",
              "      <td>1.27178</td>\n",
              "      <td>4.378871</td>\n",
              "    </tr>\n",
              "    <tr>\n",
              "      <th>17</th>\n",
              "      <td>5.66799</td>\n",
              "      <td>1.22187</td>\n",
              "      <td>5.052270</td>\n",
              "    </tr>\n",
              "    <tr>\n",
              "      <th>18</th>\n",
              "      <td>5.74020</td>\n",
              "      <td>1.23636</td>\n",
              "      <td>4.642822</td>\n",
              "    </tr>\n",
              "    <tr>\n",
              "      <th>19</th>\n",
              "      <td>5.67707</td>\n",
              "      <td>1.27363</td>\n",
              "      <td>5.287734</td>\n",
              "    </tr>\n",
              "  </tbody>\n",
              "</table>\n",
              "</div>\n",
              "      <button class=\"colab-df-convert\" onclick=\"convertToInteractive('df-633c46a4-39d7-4ab2-9091-5dfa493996f6')\"\n",
              "              title=\"Convert this dataframe to an interactive table.\"\n",
              "              style=\"display:none;\">\n",
              "        \n",
              "  <svg xmlns=\"http://www.w3.org/2000/svg\" height=\"24px\"viewBox=\"0 0 24 24\"\n",
              "       width=\"24px\">\n",
              "    <path d=\"M0 0h24v24H0V0z\" fill=\"none\"/>\n",
              "    <path d=\"M18.56 5.44l.94 2.06.94-2.06 2.06-.94-2.06-.94-.94-2.06-.94 2.06-2.06.94zm-11 1L8.5 8.5l.94-2.06 2.06-.94-2.06-.94L8.5 2.5l-.94 2.06-2.06.94zm10 10l.94 2.06.94-2.06 2.06-.94-2.06-.94-.94-2.06-.94 2.06-2.06.94z\"/><path d=\"M17.41 7.96l-1.37-1.37c-.4-.4-.92-.59-1.43-.59-.52 0-1.04.2-1.43.59L10.3 9.45l-7.72 7.72c-.78.78-.78 2.05 0 2.83L4 21.41c.39.39.9.59 1.41.59.51 0 1.02-.2 1.41-.59l7.78-7.78 2.81-2.81c.8-.78.8-2.07 0-2.86zM5.41 20L4 18.59l7.72-7.72 1.47 1.35L5.41 20z\"/>\n",
              "  </svg>\n",
              "      </button>\n",
              "      \n",
              "  <style>\n",
              "    .colab-df-container {\n",
              "      display:flex;\n",
              "      flex-wrap:wrap;\n",
              "      gap: 12px;\n",
              "    }\n",
              "\n",
              "    .colab-df-convert {\n",
              "      background-color: #E8F0FE;\n",
              "      border: none;\n",
              "      border-radius: 50%;\n",
              "      cursor: pointer;\n",
              "      display: none;\n",
              "      fill: #1967D2;\n",
              "      height: 32px;\n",
              "      padding: 0 0 0 0;\n",
              "      width: 32px;\n",
              "    }\n",
              "\n",
              "    .colab-df-convert:hover {\n",
              "      background-color: #E2EBFA;\n",
              "      box-shadow: 0px 1px 2px rgba(60, 64, 67, 0.3), 0px 1px 3px 1px rgba(60, 64, 67, 0.15);\n",
              "      fill: #174EA6;\n",
              "    }\n",
              "\n",
              "    [theme=dark] .colab-df-convert {\n",
              "      background-color: #3B4455;\n",
              "      fill: #D2E3FC;\n",
              "    }\n",
              "\n",
              "    [theme=dark] .colab-df-convert:hover {\n",
              "      background-color: #434B5C;\n",
              "      box-shadow: 0px 1px 3px 1px rgba(0, 0, 0, 0.15);\n",
              "      filter: drop-shadow(0px 1px 2px rgba(0, 0, 0, 0.3));\n",
              "      fill: #FFFFFF;\n",
              "    }\n",
              "  </style>\n",
              "\n",
              "      <script>\n",
              "        const buttonEl =\n",
              "          document.querySelector('#df-633c46a4-39d7-4ab2-9091-5dfa493996f6 button.colab-df-convert');\n",
              "        buttonEl.style.display =\n",
              "          google.colab.kernel.accessAllowed ? 'block' : 'none';\n",
              "\n",
              "        async function convertToInteractive(key) {\n",
              "          const element = document.querySelector('#df-633c46a4-39d7-4ab2-9091-5dfa493996f6');\n",
              "          const dataTable =\n",
              "            await google.colab.kernel.invokeFunction('convertToInteractive',\n",
              "                                                     [key], {});\n",
              "          if (!dataTable) return;\n",
              "\n",
              "          const docLinkHtml = 'Like what you see? Visit the ' +\n",
              "            '<a target=\"_blank\" href=https://colab.research.google.com/notebooks/data_table.ipynb>data table notebook</a>'\n",
              "            + ' to learn more about interactive tables.';\n",
              "          element.innerHTML = '';\n",
              "          dataTable['output_type'] = 'display_data';\n",
              "          await google.colab.output.renderOutput(dataTable, element);\n",
              "          const docLink = document.createElement('div');\n",
              "          docLink.innerHTML = docLinkHtml;\n",
              "          element.appendChild(docLink);\n",
              "        }\n",
              "      </script>\n",
              "    </div>\n",
              "  </div>\n",
              "  "
            ]
          },
          "metadata": {},
          "execution_count": 52
        }
      ]
    },
    {
      "cell_type": "markdown",
      "source": [
        "###Segunda Parte\n",
        "* Para realizar un mejor analisis de los resultados se opto por sacar la media al tiempo por cada uno de los lenguajes, es decir, el promedio de tiempo para Python, otro para Cython y al final el promedio para la mejora respectiva de Cython sobre Python."
      ],
      "metadata": {
        "id": "8TNwvJ2K2woB"
      }
    },
    {
      "cell_type": "code",
      "source": [
        "promP=df[\"Python\"].mean()\n",
        "print(\"El tiempo promedio de Python es: \", promP)"
      ],
      "metadata": {
        "colab": {
          "base_uri": "https://localhost:8080/"
        },
        "id": "b59LtX2qwxbE",
        "outputId": "98adec25-2448-4b12-cbdc-c03254461a48"
      },
      "execution_count": 53,
      "outputs": [
        {
          "output_type": "stream",
          "name": "stdout",
          "text": [
            "El tiempo promedio de Python es:  5.590142500000001\n"
          ]
        }
      ]
    },
    {
      "cell_type": "code",
      "source": [
        "promC=df[\"Cython\"].mean()\n",
        "print(\"El tiempo promedio de Cython es: \", promC)"
      ],
      "metadata": {
        "colab": {
          "base_uri": "https://localhost:8080/"
        },
        "id": "oKGyXYAqxQuj",
        "outputId": "17d20d7c-8b55-4358-b703-86ce659f8527"
      },
      "execution_count": 54,
      "outputs": [
        {
          "output_type": "stream",
          "name": "stdout",
          "text": [
            "El tiempo promedio de Cython es:  1.2721835000000001\n"
          ]
        }
      ]
    },
    {
      "cell_type": "code",
      "source": [
        "promM=df[\"Mejora\"].mean()\n",
        "print(\"El tiempo promedio de Mejora es: \", promM)"
      ],
      "metadata": {
        "colab": {
          "base_uri": "https://localhost:8080/"
        },
        "id": "3azvRnPPxxO3",
        "outputId": "75f8278d-f0ba-46ee-bf31-46e5014ac25c"
      },
      "execution_count": 55,
      "outputs": [
        {
          "output_type": "stream",
          "name": "stdout",
          "text": [
            "El tiempo promedio de Mejora es:  3.9696980499999994\n"
          ]
        }
      ]
    },
    {
      "cell_type": "markdown",
      "source": [
        "###Tercera Parte\n",
        "* Para observar mejor la compartiva entre los tiempos obtenidos por cada uno de los lenguajes se obto por realizar una grafica de barras, donde es posible apreciar una diferencia significativa entre ambos lenguajes siendo Cython muy superior en rendimiento a comparación de Python, con un promedio de 3.96, siendo casi cuatro veces superior sobre este ultimo."
      ],
      "metadata": {
        "id": "hzfyX4NqcKYk"
      }
    },
    {
      "cell_type": "code",
      "source": [
        "X = np.arange(len(df.columns)-1)\n",
        "plt.bar(X-0.02, df[[\"Python\", \"Cython\"]].mean(), 0.4, alpha=0.8)\n",
        "plt.title(\"Comparativa Python vs Cython\")\n",
        "plt.xlabel(\"Lenguajes de Programación\")\n",
        "plt.ylabel(\"Tiempo (s)\")\n",
        "plt.xticks(X,[\"Python\", \"Cython\"])\n",
        "plt.show()\n"
      ],
      "metadata": {
        "colab": {
          "base_uri": "https://localhost:8080/",
          "height": 296
        },
        "id": "U2EmAmQ2r21F",
        "outputId": "38ce0714-eda2-456b-fe05-1fbd186c84d8"
      },
      "execution_count": 56,
      "outputs": [
        {
          "output_type": "display_data",
          "data": {
            "text/plain": [
              "<Figure size 432x288 with 1 Axes>"
            ],
            "image/png": "[encoded data removed]"
          },
          "metadata": {
            "needs_background": "light"
          }
        }
      ]
    },
    {
      "cell_type": "markdown",
      "source": [
        "* Gracias a una grafica de barras es posible evidenciar el gran rendimiento que tiene Cython en comparción a Python siendo mucho menor."
      ],
      "metadata": {
        "id": "uzYRs0FcrwXt"
      }
    },
    {
      "cell_type": "markdown",
      "source": [
        "###Cuarta Parte\n",
        "* El comportamiento de tiempo es fundamental a la hora de analizar los datos obtenidos, por eso se obto por realizar una grafica por separado para cada uno de los lenguajes con el fin de analizar mejor los resultados.\n"
      ],
      "metadata": {
        "id": "5e9BZjmIciin"
      }
    },
    {
      "cell_type": "code",
      "source": [
        "plt.plot(df[\"Cython\"])\n",
        "plt.title(\"Cython\")\n",
        "plt.xlabel(\"Número de Repetición\")\n",
        "plt.ylabel(\"Tiempo (s)\")\n",
        "plt.show()\n"
      ],
      "metadata": {
        "colab": {
          "base_uri": "https://localhost:8080/",
          "height": 296
        },
        "id": "LkeRsCVfr5jb",
        "outputId": "842ccb3d-81b7-4ee9-e424-6605fa25bf71"
      },
      "execution_count": 129,
      "outputs": [
        {
          "output_type": "display_data",
          "data": {
            "text/plain": [
              "<Figure size 432x288 with 1 Axes>"
            ],
            "image/png": "[encoded data removed]"
          },
          "metadata": {
            "needs_background": "light"
          }
        }
      ]
    },
    {
      "cell_type": "markdown",
      "source": [
        "1. Para la grafica de Cython se obtuvieron valores muy bajos en tiempo con un comportamiento regular que no varia mucho y con un rango bajo, estos valores pueden variar debido a que trabaja con valores aleatorios y no siempre van a ser los mismos."
      ],
      "metadata": {
        "id": "3RyLYUFgdeV4"
      }
    },
    {
      "cell_type": "code",
      "source": [
        "plt.plot(df[\"Python\"], color='orange')\n",
        "plt.title(\"Python\")\n",
        "plt.xlabel(\"Número de Repetición\")\n",
        "plt.ylabel(\"Tiempo (s)\")\n",
        "plt.show()"
      ],
      "metadata": {
        "colab": {
          "base_uri": "https://localhost:8080/",
          "height": 296
        },
        "id": "5XbxDHyRc3mL",
        "outputId": "0a847413-a007-4bd2-ea08-009f685c10b0"
      },
      "execution_count": 128,
      "outputs": [
        {
          "output_type": "display_data",
          "data": {
            "text/plain": [
              "<Figure size 432x288 with 1 Axes>"
            ],
            "image/png": "[encoded data removed]"
          },
          "metadata": {
            "needs_background": "light"
          }
        }
      ]
    },
    {
      "cell_type": "markdown",
      "source": [
        "2.  Para la grafica de Python en comparación a la de Cython el comportamiendo del varia mucho, tendiendo a subir cada vez que se realizan más repeticiones."
      ],
      "metadata": {
        "id": "EDwihO11d9lw"
      }
    },
    {
      "cell_type": "code",
      "source": [
        "df[\"Cython\"].plot(label='Cython', figsize=(7,5))\n",
        "df[\"Python\"].plot(label='Python')\n",
        "plt.title(\"Python VS Cython\")\n",
        "plt.xlabel(\"Número de Repetición\")\n",
        "plt.ylabel(\"Tiempo (s)\")\n",
        "plt.legend()\n",
        "plt.show()"
      ],
      "metadata": {
        "colab": {
          "base_uri": "https://localhost:8080/",
          "height": 350
        },
        "id": "Qvji2CN1r9aZ",
        "outputId": "9b4d065e-10d0-4617-c2da-e0bfcac1962a"
      },
      "execution_count": 59,
      "outputs": [
        {
          "output_type": "display_data",
          "data": {
            "text/plain": [
              "<Figure size 504x360 with 1 Axes>"
            ],
            "image/png": "[encoded data removed]"
          },
          "metadata": {
            "needs_background": "light"
          }
        }
      ]
    },
    {
      "cell_type": "markdown",
      "source": [
        "3. Comparativa de tiempos entre Cython y Python, el tiempo de Python promedia casi 5.5901s mientras que el tiempo promedio de Cython promedia 1.2721s "
      ],
      "metadata": {
        "id": "rzuMLfryfQj0"
      }
    },
    {
      "cell_type": "code",
      "source": [
        "plt.plot(df[\"Mejora\"], color='purple')\n",
        "plt.title(\"Cython VS Python\")\n",
        "plt.xlabel(\"Número de Repetición\")\n",
        "plt.ylabel(\"Mejora\")\n",
        "plt.show()"
      ],
      "metadata": {
        "colab": {
          "base_uri": "https://localhost:8080/",
          "height": 296
        },
        "id": "dZZwvWf_sxdp",
        "outputId": "428f3be8-320b-48f6-edf8-10655af75b72"
      },
      "execution_count": 130,
      "outputs": [
        {
          "output_type": "display_data",
          "data": {
            "text/plain": [
              "<Figure size 432x288 with 1 Axes>"
            ],
            "image/png": "[encoded data removed]"
          },
          "metadata": {
            "needs_background": "light"
          }
        }
      ]
    },
    {
      "cell_type": "markdown",
      "source": [
        "4. La grafica de la mejora del rendimiento de Cython sobre Python tiende a mejorar con el numero de repeticiones como se evidencio en la grafica de Python donde a mayor numero de repeticiones el tiempo aumentaba y en Cython se mantenia o incluso alcanzaba a bajar, por esta razón en la grafica de mejora se evidencia un aumento durante las repeticiones."
      ],
      "metadata": {
        "id": "iPN3L0yChEDq"
      }
    },
    {
      "cell_type": "markdown",
      "source": [
        "#Segundo Algoritmo - PALINDROME\n",
        "* Programa que maximiza el recuento de subsecuencias palindrómicas de 3 longitudes con cada parte de índice de una sola subsecuencia, recordando que un palindrome es una palabra o frase que se lee igual en un sentido que en otro, en este caso se trabaja con 3 caracteres. Utilizando un arreglo de 26 posiciones para asignar un espacio a cada palabra del abecedario, y posteriormente mediante un ciclo repetitivo While se lee la palabra u oración a ser procesada y ver si se encuentras repeticiones y si es palindorme o no.\n"
      ],
      "metadata": {
        "id": "Kc37dbG2tA0l"
      }
    },
    {
      "cell_type": "markdown",
      "source": [
        "###Primera Parte\n",
        "\n",
        "* Se leen los datos mediante un .csv para realizar su respectivo analisis"
      ],
      "metadata": {
        "id": "1rB8q2zFq44L"
      }
    },
    {
      "cell_type": "code",
      "source": [
        "df2 = pd.read_csv(\"/content/Palindrome.csv\")\n",
        "df2"
      ],
      "metadata": {
        "colab": {
          "base_uri": "https://localhost:8080/",
          "height": 677
        },
        "id": "osd7_AWstGEh",
        "outputId": "8d181d05-eeca-4183-9bbe-f4e974880f27"
      },
      "execution_count": 109,
      "outputs": [
        {
          "output_type": "execute_result",
          "data": {
            "text/plain": [
              "      Python    Cython     Mejora\n",
              "0   0.000050  0.000006   7.703704\n",
              "1   0.000087  0.000009  10.194444\n",
              "2   0.000069  0.000006  10.777778\n",
              "3   0.000074  0.000012   5.942308\n",
              "4   0.000066  0.000005  13.142857\n",
              "5   0.000046  0.000006   8.083333\n",
              "6   0.000047  0.000007   6.419355\n",
              "7   0.000062  0.000005  12.950000\n",
              "8   0.000135  0.000011  11.812500\n",
              "9   0.000060  0.000005  11.904762\n",
              "10  0.000169  0.000011  15.085106\n",
              "11  0.000143  0.000011  12.500000\n",
              "12  0.000108  0.000005  21.571429\n",
              "13  0.000046  0.000010   4.511628\n",
              "14  0.000060  0.000005  12.500000\n",
              "15  0.000046  0.000005  10.210526\n",
              "16  0.000047  0.000010   4.738095\n",
              "17  0.000093  0.000005  19.500000\n",
              "18  0.000135  0.000011  12.021277\n",
              "19  0.000142  0.000011  12.659574"
            ],
            "text/html": [
              "\n",
              "  <div id=\"df-84e84394-6c5b-4341-af43-b2193a18f997\">\n",
              "    <div class=\"colab-df-container\">\n",
              "      <div>\n",
              "<style scoped>\n",
              "    .dataframe tbody tr th:only-of-type {\n",
              "        vertical-align: middle;\n",
              "    }\n",
              "\n",
              "    .dataframe tbody tr th {\n",
              "        vertical-align: top;\n",
              "    }\n",
              "\n",
              "    .dataframe thead th {\n",
              "        text-align: right;\n",
              "    }\n",
              "</style>\n",
              "<table border=\"1\" class=\"dataframe\">\n",
              "  <thead>\n",
              "    <tr style=\"text-align: right;\">\n",
              "      <th></th>\n",
              "      <th>Python</th>\n",
              "      <th>Cython</th>\n",
              "      <th>Mejora</th>\n",
              "    </tr>\n",
              "  </thead>\n",
              "  <tbody>\n",
              "    <tr>\n",
              "      <th>0</th>\n",
              "      <td>0.000050</td>\n",
              "      <td>0.000006</td>\n",
              "      <td>7.703704</td>\n",
              "    </tr>\n",
              "    <tr>\n",
              "      <th>1</th>\n",
              "      <td>0.000087</td>\n",
              "      <td>0.000009</td>\n",
              "      <td>10.194444</td>\n",
              "    </tr>\n",
              "    <tr>\n",
              "      <th>2</th>\n",
              "      <td>0.000069</td>\n",
              "      <td>0.000006</td>\n",
              "      <td>10.777778</td>\n",
              "    </tr>\n",
              "    <tr>\n",
              "      <th>3</th>\n",
              "      <td>0.000074</td>\n",
              "      <td>0.000012</td>\n",
              "      <td>5.942308</td>\n",
              "    </tr>\n",
              "    <tr>\n",
              "      <th>4</th>\n",
              "      <td>0.000066</td>\n",
              "      <td>0.000005</td>\n",
              "      <td>13.142857</td>\n",
              "    </tr>\n",
              "    <tr>\n",
              "      <th>5</th>\n",
              "      <td>0.000046</td>\n",
              "      <td>0.000006</td>\n",
              "      <td>8.083333</td>\n",
              "    </tr>\n",
              "    <tr>\n",
              "      <th>6</th>\n",
              "      <td>0.000047</td>\n",
              "      <td>0.000007</td>\n",
              "      <td>6.419355</td>\n",
              "    </tr>\n",
              "    <tr>\n",
              "      <th>7</th>\n",
              "      <td>0.000062</td>\n",
              "      <td>0.000005</td>\n",
              "      <td>12.950000</td>\n",
              "    </tr>\n",
              "    <tr>\n",
              "      <th>8</th>\n",
              "      <td>0.000135</td>\n",
              "      <td>0.000011</td>\n",
              "      <td>11.812500</td>\n",
              "    </tr>\n",
              "    <tr>\n",
              "      <th>9</th>\n",
              "      <td>0.000060</td>\n",
              "      <td>0.000005</td>\n",
              "      <td>11.904762</td>\n",
              "    </tr>\n",
              "    <tr>\n",
              "      <th>10</th>\n",
              "      <td>0.000169</td>\n",
              "      <td>0.000011</td>\n",
              "      <td>15.085106</td>\n",
              "    </tr>\n",
              "    <tr>\n",
              "      <th>11</th>\n",
              "      <td>0.000143</td>\n",
              "      <td>0.000011</td>\n",
              "      <td>12.500000</td>\n",
              "    </tr>\n",
              "    <tr>\n",
              "      <th>12</th>\n",
              "      <td>0.000108</td>\n",
              "      <td>0.000005</td>\n",
              "      <td>21.571429</td>\n",
              "    </tr>\n",
              "    <tr>\n",
              "      <th>13</th>\n",
              "      <td>0.000046</td>\n",
              "      <td>0.000010</td>\n",
              "      <td>4.511628</td>\n",
              "    </tr>\n",
              "    <tr>\n",
              "      <th>14</th>\n",
              "      <td>0.000060</td>\n",
              "      <td>0.000005</td>\n",
              "      <td>12.500000</td>\n",
              "    </tr>\n",
              "    <tr>\n",
              "      <th>15</th>\n",
              "      <td>0.000046</td>\n",
              "      <td>0.000005</td>\n",
              "      <td>10.210526</td>\n",
              "    </tr>\n",
              "    <tr>\n",
              "      <th>16</th>\n",
              "      <td>0.000047</td>\n",
              "      <td>0.000010</td>\n",
              "      <td>4.738095</td>\n",
              "    </tr>\n",
              "    <tr>\n",
              "      <th>17</th>\n",
              "      <td>0.000093</td>\n",
              "      <td>0.000005</td>\n",
              "      <td>19.500000</td>\n",
              "    </tr>\n",
              "    <tr>\n",
              "      <th>18</th>\n",
              "      <td>0.000135</td>\n",
              "      <td>0.000011</td>\n",
              "      <td>12.021277</td>\n",
              "    </tr>\n",
              "    <tr>\n",
              "      <th>19</th>\n",
              "      <td>0.000142</td>\n",
              "      <td>0.000011</td>\n",
              "      <td>12.659574</td>\n",
              "    </tr>\n",
              "  </tbody>\n",
              "</table>\n",
              "</div>\n",
              "      <button class=\"colab-df-convert\" onclick=\"convertToInteractive('df-84e84394-6c5b-4341-af43-b2193a18f997')\"\n",
              "              title=\"Convert this dataframe to an interactive table.\"\n",
              "              style=\"display:none;\">\n",
              "        \n",
              "  <svg xmlns=\"http://www.w3.org/2000/svg\" height=\"24px\"viewBox=\"0 0 24 24\"\n",
              "       width=\"24px\">\n",
              "    <path d=\"M0 0h24v24H0V0z\" fill=\"none\"/>\n",
              "    <path d=\"M18.56 5.44l.94 2.06.94-2.06 2.06-.94-2.06-.94-.94-2.06-.94 2.06-2.06.94zm-11 1L8.5 8.5l.94-2.06 2.06-.94-2.06-.94L8.5 2.5l-.94 2.06-2.06.94zm10 10l.94 2.06.94-2.06 2.06-.94-2.06-.94-.94-2.06-.94 2.06-2.06.94z\"/><path d=\"M17.41 7.96l-1.37-1.37c-.4-.4-.92-.59-1.43-.59-.52 0-1.04.2-1.43.59L10.3 9.45l-7.72 7.72c-.78.78-.78 2.05 0 2.83L4 21.41c.39.39.9.59 1.41.59.51 0 1.02-.2 1.41-.59l7.78-7.78 2.81-2.81c.8-.78.8-2.07 0-2.86zM5.41 20L4 18.59l7.72-7.72 1.47 1.35L5.41 20z\"/>\n",
              "  </svg>\n",
              "      </button>\n",
              "      \n",
              "  <style>\n",
              "    .colab-df-container {\n",
              "      display:flex;\n",
              "      flex-wrap:wrap;\n",
              "      gap: 12px;\n",
              "    }\n",
              "\n",
              "    .colab-df-convert {\n",
              "      background-color: #E8F0FE;\n",
              "      border: none;\n",
              "      border-radius: 50%;\n",
              "      cursor: pointer;\n",
              "      display: none;\n",
              "      fill: #1967D2;\n",
              "      height: 32px;\n",
              "      padding: 0 0 0 0;\n",
              "      width: 32px;\n",
              "    }\n",
              "\n",
              "    .colab-df-convert:hover {\n",
              "      background-color: #E2EBFA;\n",
              "      box-shadow: 0px 1px 2px rgba(60, 64, 67, 0.3), 0px 1px 3px 1px rgba(60, 64, 67, 0.15);\n",
              "      fill: #174EA6;\n",
              "    }\n",
              "\n",
              "    [theme=dark] .colab-df-convert {\n",
              "      background-color: #3B4455;\n",
              "      fill: #D2E3FC;\n",
              "    }\n",
              "\n",
              "    [theme=dark] .colab-df-convert:hover {\n",
              "      background-color: #434B5C;\n",
              "      box-shadow: 0px 1px 3px 1px rgba(0, 0, 0, 0.15);\n",
              "      filter: drop-shadow(0px 1px 2px rgba(0, 0, 0, 0.3));\n",
              "      fill: #FFFFFF;\n",
              "    }\n",
              "  </style>\n",
              "\n",
              "      <script>\n",
              "        const buttonEl =\n",
              "          document.querySelector('#df-84e84394-6c5b-4341-af43-b2193a18f997 button.colab-df-convert');\n",
              "        buttonEl.style.display =\n",
              "          google.colab.kernel.accessAllowed ? 'block' : 'none';\n",
              "\n",
              "        async function convertToInteractive(key) {\n",
              "          const element = document.querySelector('#df-84e84394-6c5b-4341-af43-b2193a18f997');\n",
              "          const dataTable =\n",
              "            await google.colab.kernel.invokeFunction('convertToInteractive',\n",
              "                                                     [key], {});\n",
              "          if (!dataTable) return;\n",
              "\n",
              "          const docLinkHtml = 'Like what you see? Visit the ' +\n",
              "            '<a target=\"_blank\" href=https://colab.research.google.com/notebooks/data_table.ipynb>data table notebook</a>'\n",
              "            + ' to learn more about interactive tables.';\n",
              "          element.innerHTML = '';\n",
              "          dataTable['output_type'] = 'display_data';\n",
              "          await google.colab.output.renderOutput(dataTable, element);\n",
              "          const docLink = document.createElement('div');\n",
              "          docLink.innerHTML = docLinkHtml;\n",
              "          element.appendChild(docLink);\n",
              "        }\n",
              "      </script>\n",
              "    </div>\n",
              "  </div>\n",
              "  "
            ]
          },
          "metadata": {},
          "execution_count": 109
        }
      ]
    },
    {
      "cell_type": "code",
      "source": [
        "df2['Cython'] = df2['Cython'] * 100000\n",
        "df2['Python'] = df2['Python'] * 100000\n"
      ],
      "metadata": {
        "id": "0tH-0HDWsYhq"
      },
      "execution_count": 110,
      "outputs": []
    },
    {
      "cell_type": "code",
      "source": [
        "df2"
      ],
      "metadata": {
        "colab": {
          "base_uri": "https://localhost:8080/",
          "height": 677
        },
        "id": "pu3UfM-uuX6E",
        "outputId": "7faf4743-53d4-41b6-b83c-dcc2efbe467b"
      },
      "execution_count": 120,
      "outputs": [
        {
          "output_type": "execute_result",
          "data": {
            "text/plain": [
              "     Python  Cython     Mejora\n",
              "0    4.9591  0.6437   7.703704\n",
              "1    8.7500  0.8583  10.194444\n",
              "2    6.9380  0.6437  10.777778\n",
              "3    7.3671  1.2398   5.942308\n",
              "4    6.5804  0.5007  13.142857\n",
              "5    4.6253  0.5722   8.083333\n",
              "6    4.7445  0.7391   6.419355\n",
              "7    6.1750  0.4768  12.950000\n",
              "8   13.5183  1.1444  11.812500\n",
              "9    5.9605  0.5007  11.904762\n",
              "10  16.9039  1.1206  15.085106\n",
              "11  14.3051  1.1444  12.500000\n",
              "12  10.8004  0.5007  21.571429\n",
              "13   4.6253  1.0252   4.511628\n",
              "14   5.9605  0.4768  12.500000\n",
              "15   4.6253  0.4530  10.210526\n",
              "16   4.7445  1.0014   4.738095\n",
              "17   9.2983  0.4768  19.500000\n",
              "18  13.4706  1.1206  12.021277\n",
              "19  14.1859  1.1206  12.659574"
            ],
            "text/html": [
              "\n",
              "  <div id=\"df-7d412e97-4528-4a4e-a0c8-b80fea775599\">\n",
              "    <div class=\"colab-df-container\">\n",
              "      <div>\n",
              "<style scoped>\n",
              "    .dataframe tbody tr th:only-of-type {\n",
              "        vertical-align: middle;\n",
              "    }\n",
              "\n",
              "    .dataframe tbody tr th {\n",
              "        vertical-align: top;\n",
              "    }\n",
              "\n",
              "    .dataframe thead th {\n",
              "        text-align: right;\n",
              "    }\n",
              "</style>\n",
              "<table border=\"1\" class=\"dataframe\">\n",
              "  <thead>\n",
              "    <tr style=\"text-align: right;\">\n",
              "      <th></th>\n",
              "      <th>Python</th>\n",
              "      <th>Cython</th>\n",
              "      <th>Mejora</th>\n",
              "    </tr>\n",
              "  </thead>\n",
              "  <tbody>\n",
              "    <tr>\n",
              "      <th>0</th>\n",
              "      <td>4.9591</td>\n",
              "      <td>0.6437</td>\n",
              "      <td>7.703704</td>\n",
              "    </tr>\n",
              "    <tr>\n",
              "      <th>1</th>\n",
              "      <td>8.7500</td>\n",
              "      <td>0.8583</td>\n",
              "      <td>10.194444</td>\n",
              "    </tr>\n",
              "    <tr>\n",
              "      <th>2</th>\n",
              "      <td>6.9380</td>\n",
              "      <td>0.6437</td>\n",
              "      <td>10.777778</td>\n",
              "    </tr>\n",
              "    <tr>\n",
              "      <th>3</th>\n",
              "      <td>7.3671</td>\n",
              "      <td>1.2398</td>\n",
              "      <td>5.942308</td>\n",
              "    </tr>\n",
              "    <tr>\n",
              "      <th>4</th>\n",
              "      <td>6.5804</td>\n",
              "      <td>0.5007</td>\n",
              "      <td>13.142857</td>\n",
              "    </tr>\n",
              "    <tr>\n",
              "      <th>5</th>\n",
              "      <td>4.6253</td>\n",
              "      <td>0.5722</td>\n",
              "      <td>8.083333</td>\n",
              "    </tr>\n",
              "    <tr>\n",
              "      <th>6</th>\n",
              "      <td>4.7445</td>\n",
              "      <td>0.7391</td>\n",
              "      <td>6.419355</td>\n",
              "    </tr>\n",
              "    <tr>\n",
              "      <th>7</th>\n",
              "      <td>6.1750</td>\n",
              "      <td>0.4768</td>\n",
              "      <td>12.950000</td>\n",
              "    </tr>\n",
              "    <tr>\n",
              "      <th>8</th>\n",
              "      <td>13.5183</td>\n",
              "      <td>1.1444</td>\n",
              "      <td>11.812500</td>\n",
              "    </tr>\n",
              "    <tr>\n",
              "      <th>9</th>\n",
              "      <td>5.9605</td>\n",
              "      <td>0.5007</td>\n",
              "      <td>11.904762</td>\n",
              "    </tr>\n",
              "    <tr>\n",
              "      <th>10</th>\n",
              "      <td>16.9039</td>\n",
              "      <td>1.1206</td>\n",
              "      <td>15.085106</td>\n",
              "    </tr>\n",
              "    <tr>\n",
              "      <th>11</th>\n",
              "      <td>14.3051</td>\n",
              "      <td>1.1444</td>\n",
              "      <td>12.500000</td>\n",
              "    </tr>\n",
              "    <tr>\n",
              "      <th>12</th>\n",
              "      <td>10.8004</td>\n",
              "      <td>0.5007</td>\n",
              "      <td>21.571429</td>\n",
              "    </tr>\n",
              "    <tr>\n",
              "      <th>13</th>\n",
              "      <td>4.6253</td>\n",
              "      <td>1.0252</td>\n",
              "      <td>4.511628</td>\n",
              "    </tr>\n",
              "    <tr>\n",
              "      <th>14</th>\n",
              "      <td>5.9605</td>\n",
              "      <td>0.4768</td>\n",
              "      <td>12.500000</td>\n",
              "    </tr>\n",
              "    <tr>\n",
              "      <th>15</th>\n",
              "      <td>4.6253</td>\n",
              "      <td>0.4530</td>\n",
              "      <td>10.210526</td>\n",
              "    </tr>\n",
              "    <tr>\n",
              "      <th>16</th>\n",
              "      <td>4.7445</td>\n",
              "      <td>1.0014</td>\n",
              "      <td>4.738095</td>\n",
              "    </tr>\n",
              "    <tr>\n",
              "      <th>17</th>\n",
              "      <td>9.2983</td>\n",
              "      <td>0.4768</td>\n",
              "      <td>19.500000</td>\n",
              "    </tr>\n",
              "    <tr>\n",
              "      <th>18</th>\n",
              "      <td>13.4706</td>\n",
              "      <td>1.1206</td>\n",
              "      <td>12.021277</td>\n",
              "    </tr>\n",
              "    <tr>\n",
              "      <th>19</th>\n",
              "      <td>14.1859</td>\n",
              "      <td>1.1206</td>\n",
              "      <td>12.659574</td>\n",
              "    </tr>\n",
              "  </tbody>\n",
              "</table>\n",
              "</div>\n",
              "      <button class=\"colab-df-convert\" onclick=\"convertToInteractive('df-7d412e97-4528-4a4e-a0c8-b80fea775599')\"\n",
              "              title=\"Convert this dataframe to an interactive table.\"\n",
              "              style=\"display:none;\">\n",
              "        \n",
              "  <svg xmlns=\"http://www.w3.org/2000/svg\" height=\"24px\"viewBox=\"0 0 24 24\"\n",
              "       width=\"24px\">\n",
              "    <path d=\"M0 0h24v24H0V0z\" fill=\"none\"/>\n",
              "    <path d=\"M18.56 5.44l.94 2.06.94-2.06 2.06-.94-2.06-.94-.94-2.06-.94 2.06-2.06.94zm-11 1L8.5 8.5l.94-2.06 2.06-.94-2.06-.94L8.5 2.5l-.94 2.06-2.06.94zm10 10l.94 2.06.94-2.06 2.06-.94-2.06-.94-.94-2.06-.94 2.06-2.06.94z\"/><path d=\"M17.41 7.96l-1.37-1.37c-.4-.4-.92-.59-1.43-.59-.52 0-1.04.2-1.43.59L10.3 9.45l-7.72 7.72c-.78.78-.78 2.05 0 2.83L4 21.41c.39.39.9.59 1.41.59.51 0 1.02-.2 1.41-.59l7.78-7.78 2.81-2.81c.8-.78.8-2.07 0-2.86zM5.41 20L4 18.59l7.72-7.72 1.47 1.35L5.41 20z\"/>\n",
              "  </svg>\n",
              "      </button>\n",
              "      \n",
              "  <style>\n",
              "    .colab-df-container {\n",
              "      display:flex;\n",
              "      flex-wrap:wrap;\n",
              "      gap: 12px;\n",
              "    }\n",
              "\n",
              "    .colab-df-convert {\n",
              "      background-color: #E8F0FE;\n",
              "      border: none;\n",
              "      border-radius: 50%;\n",
              "      cursor: pointer;\n",
              "      display: none;\n",
              "      fill: #1967D2;\n",
              "      height: 32px;\n",
              "      padding: 0 0 0 0;\n",
              "      width: 32px;\n",
              "    }\n",
              "\n",
              "    .colab-df-convert:hover {\n",
              "      background-color: #E2EBFA;\n",
              "      box-shadow: 0px 1px 2px rgba(60, 64, 67, 0.3), 0px 1px 3px 1px rgba(60, 64, 67, 0.15);\n",
              "      fill: #174EA6;\n",
              "    }\n",
              "\n",
              "    [theme=dark] .colab-df-convert {\n",
              "      background-color: #3B4455;\n",
              "      fill: #D2E3FC;\n",
              "    }\n",
              "\n",
              "    [theme=dark] .colab-df-convert:hover {\n",
              "      background-color: #434B5C;\n",
              "      box-shadow: 0px 1px 3px 1px rgba(0, 0, 0, 0.15);\n",
              "      filter: drop-shadow(0px 1px 2px rgba(0, 0, 0, 0.3));\n",
              "      fill: #FFFFFF;\n",
              "    }\n",
              "  </style>\n",
              "\n",
              "      <script>\n",
              "        const buttonEl =\n",
              "          document.querySelector('#df-7d412e97-4528-4a4e-a0c8-b80fea775599 button.colab-df-convert');\n",
              "        buttonEl.style.display =\n",
              "          google.colab.kernel.accessAllowed ? 'block' : 'none';\n",
              "\n",
              "        async function convertToInteractive(key) {\n",
              "          const element = document.querySelector('#df-7d412e97-4528-4a4e-a0c8-b80fea775599');\n",
              "          const dataTable =\n",
              "            await google.colab.kernel.invokeFunction('convertToInteractive',\n",
              "                                                     [key], {});\n",
              "          if (!dataTable) return;\n",
              "\n",
              "          const docLinkHtml = 'Like what you see? Visit the ' +\n",
              "            '<a target=\"_blank\" href=https://colab.research.google.com/notebooks/data_table.ipynb>data table notebook</a>'\n",
              "            + ' to learn more about interactive tables.';\n",
              "          element.innerHTML = '';\n",
              "          dataTable['output_type'] = 'display_data';\n",
              "          await google.colab.output.renderOutput(dataTable, element);\n",
              "          const docLink = document.createElement('div');\n",
              "          docLink.innerHTML = docLinkHtml;\n",
              "          element.appendChild(docLink);\n",
              "        }\n",
              "      </script>\n",
              "    </div>\n",
              "  </div>\n",
              "  "
            ]
          },
          "metadata": {},
          "execution_count": 120
        }
      ]
    },
    {
      "cell_type": "markdown",
      "source": [
        "* Se transforman los valor obtenidos a segundos para trabajar con numeros más grandes y como se decia en segundos"
      ],
      "metadata": {
        "id": "59tkIr_8tySL"
      }
    },
    {
      "cell_type": "markdown",
      "source": [
        "###Segunda Parte\n",
        "* Para realizar un mejor analisis de los resultados se opto por sacar la media al tiempo por cada uno de los lenguajes, es decir, el promedio de tiempo para Python, otro para Cython y al final el promedio para la mejora respectiva de Cython sobre Python."
      ],
      "metadata": {
        "id": "7SnsW5vWrFaE"
      }
    },
    {
      "cell_type": "code",
      "source": [
        "promP=df2[\"Python\"].mean()\n",
        "print(\"El tiempo promedio de Python es: \", promP)"
      ],
      "metadata": {
        "colab": {
          "base_uri": "https://localhost:8080/"
        },
        "outputId": "282521bc-b40a-447c-e5c4-655144e33410",
        "id": "wwnCkmZQvJOA"
      },
      "execution_count": 111,
      "outputs": [
        {
          "output_type": "stream",
          "name": "stdout",
          "text": [
            "El tiempo promedio de Python es:  8.4269\n"
          ]
        }
      ]
    },
    {
      "cell_type": "code",
      "source": [
        "promC=df2[\"Cython\"].mean()\n",
        "print(\"El tiempo promedio de Cython es: \", promC)"
      ],
      "metadata": {
        "colab": {
          "base_uri": "https://localhost:8080/"
        },
        "outputId": "d105a4f2-638b-46ba-e333-78d2af44811b",
        "id": "fXb6Lbb2vJOI"
      },
      "execution_count": 112,
      "outputs": [
        {
          "output_type": "stream",
          "name": "stdout",
          "text": [
            "El tiempo promedio de Cython es:  0.787975\n"
          ]
        }
      ]
    },
    {
      "cell_type": "code",
      "source": [
        "promM=df2[\"Mejora\"].mean()\n",
        "print(\"El tiempo promedio de Python es: \", promM)"
      ],
      "metadata": {
        "colab": {
          "base_uri": "https://localhost:8080/"
        },
        "outputId": "3e0ae424-999b-4e8c-9970-0f870b62158e",
        "id": "aYyB1_yavJOI"
      },
      "execution_count": 113,
      "outputs": [
        {
          "output_type": "stream",
          "name": "stdout",
          "text": [
            "El tiempo promedio de Python es:  11.21143381585\n"
          ]
        }
      ]
    },
    {
      "cell_type": "markdown",
      "source": [
        "###Tercera Parte\n",
        "* Para observar mejor la compartiva entre los tiempos obtenidos por cada uno de los lenguajes se obto por realizar una grafica de barras, donde es posible apreciar una diferencia significativa entre ambos lenguajes siendo Cython muy superior en rendimiento en comparación a Python, con un promedio de 11.21 mayor, siendo casi once veces superior sobre Python                                            ."
      ],
      "metadata": {
        "id": "PrVMTM3ArVKz"
      }
    },
    {
      "cell_type": "code",
      "source": [
        "X = np.arange(len(df2.columns)-1)\n",
        "plt.bar(X-0.02, df2[[\"Python\", \"Cython\"]].mean(), 0.4, alpha=0.8)\n",
        "plt.title(\"Comparativa Python vs Cython\")\n",
        "plt.xlabel(\"Lenguajes de Programación\")\n",
        "plt.ylabel(\"Tiempo (s)\")\n",
        "plt.xticks(X,[\"Python\", \"Cython\"])\n",
        "plt.show()\n"
      ],
      "metadata": {
        "colab": {
          "base_uri": "https://localhost:8080/",
          "height": 296
        },
        "outputId": "c6e29fe4-5532-4531-a408-65ba5dffb4f0",
        "id": "BpYqWQ1gvJOI"
      },
      "execution_count": 114,
      "outputs": [
        {
          "output_type": "display_data",
          "data": {
            "text/plain": [
              "<Figure size 432x288 with 1 Axes>"
            ],
            "image/png": "[encoded data removed]"
          },
          "metadata": {
            "needs_background": "light"
          }
        }
      ]
    },
    {
      "cell_type": "markdown",
      "source": [
        "* Gracias a una grafica de barras es posible evidenciar el gran rendimiento que tiene Cython en comparción a Python siendo mucho menor."
      ],
      "metadata": {
        "id": "J8hAFyHesA2E"
      }
    },
    {
      "cell_type": "markdown",
      "source": [
        "###Cuarta Parte\n",
        "* El comportamiento de tiempo es fundamental a la hora de analizar los datos obtenidos, por eso se obto por realizar una grafica por separado para cada uno de los lenguajes con el fin de analizar mejor los resultados.\n"
      ],
      "metadata": {
        "id": "MJWizwYnsGQK"
      }
    },
    {
      "cell_type": "code",
      "source": [
        "plt.plot(df2[\"Cython\"])\n",
        "plt.title(\"Cython\")\n",
        "plt.xlabel(\"Número de Repetición\")\n",
        "plt.ylabel(\"Tiempo (s)\")\n",
        "plt.show()"
      ],
      "metadata": {
        "colab": {
          "base_uri": "https://localhost:8080/",
          "height": 296
        },
        "outputId": "3831701c-223f-4e28-fcbc-a056a77c2ec0",
        "id": "WX-8zLNFvJOJ"
      },
      "execution_count": 124,
      "outputs": [
        {
          "output_type": "display_data",
          "data": {
            "text/plain": [
              "<Figure size 432x288 with 1 Axes>"
            ],
            "image/png": "[encoded data removed]"
          },
          "metadata": {
            "needs_background": "light"
          }
        }
      ]
    },
    {
      "cell_type": "markdown",
      "source": [
        "1. Para la grafica de Cython se obtuvieron valores muy bajos en tiempo con un comportamiento que oscila entre 0.5s y 1.2s siendo muy baja."
      ],
      "metadata": {
        "id": "otSQshsKuo6p"
      }
    },
    {
      "cell_type": "code",
      "source": [
        "plt.plot(df2[\"Python\"], color='orange')\n",
        "plt.title(\"Python\")\n",
        "plt.xlabel(\"Número de Repetición\")\n",
        "plt.ylabel(\"Tiempo (s)\")\n",
        "plt.show()"
      ],
      "metadata": {
        "colab": {
          "base_uri": "https://localhost:8080/",
          "height": 296
        },
        "outputId": "aa72005f-8f5d-48c2-cd1a-ebef5d675b90",
        "id": "mBxR3d49vJOJ"
      },
      "execution_count": 125,
      "outputs": [
        {
          "output_type": "display_data",
          "data": {
            "text/plain": [
              "<Figure size 432x288 with 1 Axes>"
            ],
            "image/png": "[encoded data removed]"
          },
          "metadata": {
            "needs_background": "light"
          }
        }
      ]
    },
    {
      "cell_type": "markdown",
      "source": [
        "2. Para la grafica de Python se obtuvieron valores muy variados, con tiempos grandes y algunos con tiempos bajos."
      ],
      "metadata": {
        "id": "9NdNAbVuvBGh"
      }
    },
    {
      "cell_type": "code",
      "source": [
        "plt.plot(df2[\"Python\"], color='orange')\n",
        "plt.plot(df2[\"Cython\"], color='blue')\n",
        "plt.title(\"Cython vs Python\")\n",
        "plt.xlabel(\"Número de Repetición\")\n",
        "plt.ylabel('Tiempo (s)')\n",
        "plt.show()"
      ],
      "metadata": {
        "colab": {
          "base_uri": "https://localhost:8080/",
          "height": 296
        },
        "outputId": "fc49609d-057a-48ce-c45e-e6e2d4ecd54a",
        "id": "e7aqmMXfuMCY"
      },
      "execution_count": 126,
      "outputs": [
        {
          "output_type": "display_data",
          "data": {
            "text/plain": [
              "<Figure size 432x288 with 1 Axes>"
            ],
            "image/png": "[encoded data removed]"
          },
          "metadata": {
            "needs_background": "light"
          }
        }
      ]
    },
    {
      "cell_type": "markdown",
      "source": [
        "3. Comparativa de tiempos entre Cython y Python, el tiempo de Python promedia casi 8.42s a pesar de tener tiempos elevados y bajos, mientras que el tiempo promedio de Cython promedia 0.7879s "
      ],
      "metadata": {
        "id": "k0KgJK2zvlL_"
      }
    },
    {
      "cell_type": "code",
      "source": [
        "plt.plot(df2[\"Mejora\"], color='purple')\n",
        "plt.title(\"Mejora Cython vs Python\")\n",
        "plt.xlabel(\"Número de Repetición\")\n",
        "plt.ylabel(\"Mejora\")\n",
        "plt.show()"
      ],
      "metadata": {
        "colab": {
          "base_uri": "https://localhost:8080/",
          "height": 296
        },
        "outputId": "0774d9c0-f698-469e-a539-6f7e4dba686d",
        "id": "EQ4a44O5vJOJ"
      },
      "execution_count": 127,
      "outputs": [
        {
          "output_type": "display_data",
          "data": {
            "text/plain": [
              "<Figure size 432x288 with 1 Axes>"
            ],
            "image/png": "[encoded data removed]"
          },
          "metadata": {
            "needs_background": "light"
          }
        }
      ]
    },
    {
      "cell_type": "markdown",
      "source": [
        "4. La grafica de la mejora del rendimiento de Cython sobre Python tiende a mejorar con el numero de repeticiones siendo siempre superior y aumentando con cada repetición, en pocos casos bajo, pero siempre se mantuvo un promedio de 11.2114s"
      ],
      "metadata": {
        "id": "6hqliwcPv3dL"
      }
    },
    {
      "cell_type": "markdown",
      "source": [
        "#Conclusiones"
      ],
      "metadata": {
        "id": "WN7LD6b8w_-x"
      }
    },
    {
      "cell_type": "markdown",
      "source": [
        "1. Durante la elaboración del proyecto se pudo evidenciar que la mejora de rendimiento en Cython es muy superior en los dos casos expuestos anteriormente para cada uno de los Algoritmos, por lo que si se desea realizar un trabajo que requiera de muchos procesos y se tenga la posibilidad de trabajar con Cython es una buena eleción. \n",
        "\n",
        "2. En el Algoritmo de multiplicación de matrices es posible evidenciar como entre más repeticiones el tiempo empleado por Python va creciendo en comparación al de Cython, y como la grafica de mejora lo demuestra, donde esta va creciendo tambien debido a la diferencia de tiempos que se va produciendo entre ambos lenguajes.\n",
        "\n",
        "3. En el algoritmo de Palindrome se evidencia la mejora significativa que tiene Cython sobre Python alcanzado ser 12 veces mejor con tiempos significativamente bajos. \n",
        "\n",
        "4. Usar Cython para acelerar un código de Python y usar sus capacidades para mejorar el tiempo de ejecución del código es una gran opción para mejorar rendimiento recordando que no tiene un soporte tan bueno para la paralelización de memoria, de ser así Cython tendría un rendimiento unico."
      ],
      "metadata": {
        "id": "Fh4b7R1xBm6S"
      }
    },
    {
      "cell_type": "markdown",
      "source": [
        "# Referencias"
      ],
      "metadata": {
        "id": "kFSqKoF1E0ZR"
      }
    },
    {
      "cell_type": "markdown",
      "source": [
        "1. https://diegooo.com/cython-acelere-su-codigo-python/\n",
        "2. https://docs.python.org/es/3/\n",
        "3. https://aws.amazon.com/es/what-is/python/"
      ],
      "metadata": {
        "id": "qFzMgFzuE2c_"
      }
    }
  ]
}